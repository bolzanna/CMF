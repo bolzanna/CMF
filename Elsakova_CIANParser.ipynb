{
 "cells": [
  {
   "cell_type": "markdown",
   "metadata": {},
   "source": [
    "# CIAN parser by Elsakova Anna"
   ]
  },
  {
   "cell_type": "markdown",
   "metadata": {},
   "source": [
    "Loading libraries"
   ]
  },
  {
   "cell_type": "code",
   "execution_count": 1,
   "metadata": {
    "collapsed": true
   },
   "outputs": [],
   "source": [
    "import requests\n",
    "import re\n",
    "from bs4 import BeautifulSoup\n",
    "import pandas as pd\n",
    "import math\n",
    "import time"
   ]
  },
  {
   "cell_type": "code",
   "execution_count": 2,
   "metadata": {
    "collapsed": true
   },
   "outputs": [],
   "source": [
    "def html_stripper(text):\n",
    "    return re.sub('<[^<]+?>', '', str(text))"
   ]
  },
  {
   "cell_type": "markdown",
   "metadata": {},
   "source": [
    "## Find links to each okrug's flats"
   ]
  },
  {
   "cell_type": "code",
   "execution_count": 3,
   "metadata": {
    "collapsed": true
   },
   "outputs": [],
   "source": [
    "#all_flats = 'http://www.cian.ru/cat.php?deal_type=sale&engine_version=2&offer_type=flat&p={}&region=1&room1=1&room2=1&room3=1&room4=1&room5=1&room6=1&room7=1&room9=1'\n",
    "AO = [None]*11\n",
    "#CAO\n",
    "AO[0] = 'http://www.cian.ru/cat.php?deal_type=sale&district%5B0%5D=13&district%5B1%5D=14&district%5B2%5D=15&district%5B3%5D=16&district%5B4%5D=17&district%5B5%5D=18&district%5B6%5D=19&district%5B7%5D=20&district%5B8%5D=21&district%5B9%5D=22&engine_version=2&offer_type=flat&room1=1&room2=1&room3=1&room4=1&room5=1&room6=1&room7=1&room9=1'\n",
    "#SAO\n",
    "AO[1] = 'http://www.cian.ru/cat.php?deal_type=sale&district%5B0%5D=23&district%5B10%5D=33&district%5B11%5D=34&district%5B12%5D=35&district%5B13%5D=36&district%5B14%5D=37&district%5B15%5D=38&district%5B1%5D=24&district%5B2%5D=25&district%5B3%5D=26&district%5B4%5D=27&district%5B5%5D=28&district%5B6%5D=29&district%5B7%5D=30&district%5B8%5D=31&district%5B9%5D=32&engine_version=2&offer_type=flat&room1=1&room2=1&room3=1&room4=1&room5=1&room6=1&room7=1&room9=1'\n",
    "#SVAO\n",
    "AO[2] = 'http://www.cian.ru/cat.php?deal_type=sale&district%5B0%5D=39&district%5B10%5D=49&district%5B11%5D=50&district%5B12%5D=51&district%5B13%5D=52&district%5B14%5D=53&district%5B15%5D=54&district%5B16%5D=55&district%5B1%5D=40&district%5B2%5D=41&district%5B3%5D=42&district%5B4%5D=43&district%5B5%5D=44&district%5B6%5D=45&district%5B7%5D=46&district%5B8%5D=47&district%5B9%5D=48&engine_version=2&offer_type=flat&room1=1&room2=1&room3=1&room4=1&room5=1&room6=1&room7=1&room9=1'\n",
    "#VAO\n",
    "AO[3] = 'http://www.cian.ru/cat.php?deal_type=sale&district%5B0%5D=56&district%5B10%5D=66&district%5B11%5D=67&district%5B12%5D=68&district%5B13%5D=69&district%5B14%5D=70&district%5B15%5D=71&district%5B1%5D=57&district%5B2%5D=58&district%5B3%5D=59&district%5B4%5D=60&district%5B5%5D=61&district%5B6%5D=62&district%5B7%5D=63&district%5B8%5D=64&district%5B9%5D=65&engine_version=2&offer_type=flat&room1=1&room2=1&room3=1&room4=1&room5=1&room6=1&room7=1&room9=1'\n",
    "#UVAO\n",
    "AO[4] = 'http://www.cian.ru/cat.php?deal_type=sale&district%5B0%5D=72&district%5B10%5D=82&district%5B11%5D=83&district%5B1%5D=73&district%5B2%5D=74&district%5B3%5D=75&district%5B4%5D=76&district%5B5%5D=77&district%5B6%5D=78&district%5B7%5D=79&district%5B8%5D=80&district%5B9%5D=81&engine_version=2&offer_type=flat&room1=1&room2=1&room3=1&room4=1&room5=1&room6=1&room7=1&room9=1'\n",
    "#UAO\n",
    "AO[5] = 'http://www.cian.ru/cat.php?deal_type=sale&district%5B0%5D=84&district%5B10%5D=94&district%5B11%5D=95&district%5B12%5D=96&district%5B13%5D=97&district%5B14%5D=98&district%5B15%5D=99&district%5B1%5D=85&district%5B2%5D=86&district%5B3%5D=87&district%5B4%5D=88&district%5B5%5D=89&district%5B6%5D=90&district%5B7%5D=91&district%5B8%5D=92&district%5B9%5D=93&engine_version=2&offer_type=flat&room1=1&room2=1&room3=1&room4=1&room5=1&room6=1&room7=1&room9=1'\n",
    "#UZAO\n",
    "AO[6] = 'http://www.cian.ru/cat.php?deal_type=sale&district%5B0%5D=100&district%5B10%5D=110&district%5B11%5D=111&district%5B1%5D=101&district%5B2%5D=102&district%5B3%5D=103&district%5B4%5D=104&district%5B5%5D=105&district%5B6%5D=106&district%5B7%5D=107&district%5B8%5D=108&district%5B9%5D=109&engine_version=2&offer_type=flat&room1=1&room2=1&room3=1&room4=1&room5=1&room6=1&room7=1&room9=1'\n",
    "#ZAO\n",
    "AO[7] = 'http://www.cian.ru/cat.php?deal_type=sale&district%5B0%5D=112&district%5B10%5D=122&district%5B11%5D=123&district%5B12%5D=124&district%5B13%5D=348&district%5B14%5D=349&district%5B15%5D=350&district%5B1%5D=113&district%5B2%5D=114&district%5B3%5D=115&district%5B4%5D=116&district%5B5%5D=117&district%5B6%5D=118&district%5B7%5D=119&district%5B8%5D=120&district%5B9%5D=121&engine_version=2&offer_type=flat&room1=1&room2=1&room3=1&room4=1&room5=1&room6=1&room7=1&room9=1'\n",
    "#SZAO\n",
    "AO[8] = 'http://www.cian.ru/cat.php?deal_type=sale&district%5B0%5D=125&district%5B1%5D=126&district%5B2%5D=127&district%5B3%5D=128&district%5B4%5D=129&district%5B5%5D=130&district%5B6%5D=131&district%5B7%5D=132&engine_version=2&offer_type=flat&room1=1&room2=1&room3=1&room4=1&room5=1&room6=1&room7=1&room9=1'\n",
    "#NAO\n",
    "AO[9] = 'http://www.cian.ru/cat.php?deal_type=sale&district%5B0%5D=327&district%5B10%5D=337&district%5B1%5D=328&district%5B2%5D=329&district%5B3%5D=330&district%5B4%5D=331&district%5B5%5D=332&district%5B6%5D=333&district%5B7%5D=334&district%5B8%5D=335&district%5B9%5D=336&engine_version=2&offer_type=flat&room1=1&room2=1&room3=1&room4=1&room5=1&room6=1&room7=1&room9=1'\n",
    "#TAO\n",
    "AO[10] = 'http://www.cian.ru/cat.php?deal_type=sale&district%5B0%5D=338&district%5B1%5D=339&district%5B2%5D=340&district%5B3%5D=341&district%5B4%5D=342&district%5B5%5D=343&district%5B6%5D=344&district%5B7%5D=345&district%5B8%5D=346&district%5B9%5D=347&engine_version=2&offer_type=flat&room1=1&room2=1&room3=1&room4=1&room5=1&room6=1&room7=1&room9=1'\n",
    "#As ZelAO have less pages than other okrugs, then we will parse it in another way\n",
    "ZelAO_url = 'http://www.cian.ru/cat.php?deal_type=sale&district%5B0%5D=152&district%5B1%5D=153&district%5B2%5D=154&district%5B3%5D=355&district%5B4%5D=356&district%5B5%5D=357&district%5B6%5D=358&engine_version=2&offer_type=flat&room1=1&room2=1&room3=1&room4=1&room5=1&room6=1&room7=1&room9=1'\n",
    "ZelAO_numofpages = 1"
   ]
  },
  {
   "cell_type": "markdown",
   "metadata": {},
   "source": [
    "## Loading flat links "
   ]
  },
  {
   "cell_type": "code",
   "execution_count": 4,
   "metadata": {
    "collapsed": true
   },
   "outputs": [],
   "source": [
    "def load_flats_from_one_okrug(okrug_url, okrug_number_of_pages, links):\n",
    "    for page in range(1,okrug_number_of_pages+1):\n",
    "        page_url =  okrug_url.format(page)\n",
    "\n",
    "        search_page = requests.get(page_url)\n",
    "        search_page = search_page.content\n",
    "        search_page = BeautifulSoup(search_page, 'lxml')\n",
    "\n",
    "        flat_urls = search_page.findAll('div', attrs = {'ng-class':\"{'serp-item_removed': offer.remove.state, 'serp-item_popup-opened': isPopupOpen}\"})\n",
    "        flat_urls = re.split('http://www.cian.ru/sale/flat/|/\" ng-class=\"', str(flat_urls))\n",
    "\n",
    "        for link in flat_urls:\n",
    "            if link.isdigit():\n",
    "                links.append(link)\n",
    "    return links"
   ]
  },
  {
   "cell_type": "code",
   "execution_count": 5,
   "metadata": {
    "collapsed": false
   },
   "outputs": [
    {
     "name": "stdout",
     "output_type": "stream",
     "text": [
      "Okrug 0 is loaded\n",
      "Okrug 1 is loaded\n",
      "Okrug 2 is loaded\n",
      "Okrug 3 is loaded\n",
      "Okrug 4 is loaded\n",
      "Okrug 5 is loaded\n",
      "Okrug 6 is loaded\n",
      "Okrug 7 is loaded\n",
      "Okrug 8 is loaded\n",
      "Okrug 9 is loaded\n",
      "Okrug 10 is loaded\n"
     ]
    }
   ],
   "source": [
    "links = []\n",
    "for i in range(0,len(AO)):\n",
    "    load_flats_from_one_okrug(AO[i],30,links);\n",
    "    print('Okrug', i, 'is loaded')\n",
    "load_flats_from_one_okrug(ZelAO_url,ZelAO_numofpages,links);"
   ]
  },
  {
   "cell_type": "code",
   "execution_count": 6,
   "metadata": {
    "collapsed": false
   },
   "outputs": [
    {
     "data": {
      "text/plain": [
       "9244"
      ]
     },
     "execution_count": 6,
     "metadata": {},
     "output_type": "execute_result"
    }
   ],
   "source": [
    "len(links)"
   ]
  },
  {
   "cell_type": "markdown",
   "metadata": {},
   "source": [
    "## Parsing begins!"
   ]
  },
  {
   "cell_type": "markdown",
   "metadata": {},
   "source": [
    "### Flat URL number and ordinal number"
   ]
  },
  {
   "cell_type": "code",
   "execution_count": 7,
   "metadata": {
    "collapsed": false
   },
   "outputs": [
    {
     "data": {
      "text/plain": [
       "[{'Flat URL': '150919303', 'N': 0},\n",
       " {'Flat URL': '150425454', 'N': 1},\n",
       " {'Flat URL': '149914299', 'N': 2}]"
      ]
     },
     "execution_count": 7,
     "metadata": {},
     "output_type": "execute_result"
    }
   ],
   "source": [
    "#for each flat remember it's url number and ordinal number\n",
    "flats_info = [{'Flat URL': links[i],'N': i} for i in range(len(links))]\n",
    "flats_info[0:3]"
   ]
  },
  {
   "cell_type": "markdown",
   "metadata": {},
   "source": [
    "There are some functions that we would need for parsing information.\n",
    "For parsing information I supposed, that everywhere where \"–\" is written it means that that data is missing, not the zero mening of variable. It is absolutely true for info about space or metro I think (somewhere an information about kitchen or live space is missing). And for balcony and telephone I will think that if there written \"no\" or zero it means absence of it, and \"–\" means missing data."
   ]
  },
  {
   "cell_type": "code",
   "execution_count": 8,
   "metadata": {
    "collapsed": true
   },
   "outputs": [],
   "source": [
    "#this function distinguish a number (or no information) in a string\n",
    "def parse_quantitative_info( string ):\n",
    "    #print(string)\n",
    "    num = re.search(r'([–0-9,]+)', string)\n",
    "    if num: #if there were appropriate information - not strings\n",
    "        num = num.groups()[0].replace(',','.') #find the number in the string\n",
    "        if num == '–': #if it is missing info\n",
    "            return None #writing NaN\n",
    "        else:\n",
    "            return float(num); #write the float number\n",
    "    else: num is None\n",
    "    \n",
    "#this function distinguish is there is a substring that we need in string\n",
    "def parse_str_info( string, substring ):\n",
    "    return 1 if re.findall(substring, string) else 0\n",
    "    \n",
    "#this function is used for loading data about one flat - flat which url is \n",
    "#http://www.cian.ru/sale/flat/%pagenumber%/ \n",
    "def go_to_page( page_number ):\n",
    "    flat_url = 'http://www.cian.ru/sale/flat/' + str(links[i]) + '/'\n",
    "    flat_page = requests.get(flat_url)\n",
    "    flat_page = flat_page.content\n",
    "    flat_page = BeautifulSoup(flat_page, 'lxml')  \n",
    "    return flat_page;\n",
    "\n",
    "#this function load table with general information from every flat page\n",
    "def load_table():\n",
    "    table = flat_page.find('table', attrs = {'class':'object_descr_props'})\n",
    "    table = html_stripper(table)\n",
    "    general_info = table.split('\\n')\n",
    "    return general_info;\n",
    "\n",
    "def count_distance_to_center(lattitude, longitude):\n",
    "    kremlin_lattitude = 55.752121\n",
    "    kremlin_longitude = 37.617664\n",
    "    kilometers_in_one_degree = 63.995\n",
    "    dist = math.sqrt(math.pow((kremlin_lattitude - lattitude),2) + math.pow((kremlin_longitude - longitude),2))\n",
    "    dist = dist * kilometers_in_one_degree\n",
    "    return dist"
   ]
  },
  {
   "cell_type": "markdown",
   "metadata": {},
   "source": [
    "And now begins parsing the whole CIAN Moscow"
   ]
  },
  {
   "cell_type": "code",
   "execution_count": 37,
   "metadata": {
    "collapsed": false
   },
   "outputs": [
    {
     "name": "stdout",
     "output_type": "stream",
     "text": [
      "8400 flats loaded\n",
      "8500 flats loaded\n",
      "8600 flats loaded\n",
      "8700 flats loaded\n",
      "8800 flats loaded\n",
      "8900 flats loaded\n",
      "9000 flats loaded\n",
      "9100 flats loaded\n",
      "9200 flats loaded\n"
     ]
    }
   ],
   "source": [
    "#We need to look on EVERY page\n",
    "for i in range(0,len(links)):\n",
    "    #Go to page i\n",
    "    flat_page = go_to_page(str(links[i]))                         \n",
    "                      \n",
    "    #Now we need to find info about number of rooms in every flat (IF 9 THEN STUDIYA)\n",
    "    for script in flat_page.findAll('script'):\n",
    "        #If we found a script, inside which we have an info about rooms_count then we found what we need\n",
    "        res = re.search(r'rooms_count: (.*),', str(script.string))\n",
    "        if res:\n",
    "            rooms = int(res.groups()[0])\n",
    "            total_space = float(re.search(r'total_area: (.*),', str(script.string)).groups()[0].replace(',','.'))\n",
    "    flats_info[i]['Rooms'] = rooms\n",
    "    \n",
    "    #Price\n",
    "    price = flat_page.find('meta', attrs = {\"itemprop\":\"price\"})\n",
    "    flats_info[i]['Price'] = parse_quantitative_info(str(price))\n",
    "    \n",
    "    #All information about metro\n",
    "    metro = flat_page.find('span', attrs = {'class':'object_item_metro_comment'})\n",
    "    if metro is None:\n",
    "        metro_dist = None\n",
    "        metro_way = None\n",
    "    else: \n",
    "        metro_dist = int(re.findall(r'([0-9]+)', str(metro))[0])\n",
    "        metro_way = 1 if re.findall(r'пешком', str(metro)) else 0\n",
    "    flats_info[i]['Metrdist'] = metro_dist\n",
    "    flats_info[i]['Walk'] = metro_way\n",
    "    \n",
    "    #Coordinates\n",
    "    coords = flat_page.find('div', attrs={'class':'map_info_button_extend'}).contents[1]\n",
    "    coords = re.split('&amp|center=|%2C', str(coords))\n",
    "    coords_list = []\n",
    "    for item in coords:\n",
    "        if item[0].isdigit():\n",
    "            coords_list.append(item)\n",
    "    lattitude = float(coords_list[0])\n",
    "    longitude = float(coords_list[1])\n",
    "    distance_to_center = count_distance_to_center(lattitude, longitude)\n",
    "    flats_info[i]['Dist'] = distance_to_center;\n",
    "    \n",
    "    \n",
    "    #table with general information about flat\n",
    "    general_info = load_table()\n",
    "    #loading information we needed from general information\n",
    "    #print(general_info)\n",
    "    total_space = None\n",
    "    live_space = None\n",
    "    kitchen_space = None\n",
    "    floor_number = None\n",
    "    total_floors = None\n",
    "    balcony = None\n",
    "    new_house = None\n",
    "    brick_house = None\n",
    "    telephone = None\n",
    "    \n",
    "    \n",
    "    for j in range(0,len(general_info)):\n",
    "        if general_info[j] == 'Общая площадь:':\n",
    "            total_space = parse_quantitative_info(general_info[j+2])\n",
    "            \n",
    "        if general_info[j] == 'Жилая площадь:':\n",
    "            live_space = parse_quantitative_info(general_info[j+2])\n",
    "            \n",
    "        if general_info[j] == 'Площадь кухни:':\n",
    "            kitchen_space = parse_quantitative_info(general_info[j+2])\n",
    "            \n",
    "        if general_info[j] == 'Этаж:':\n",
    "            floors_info = re.findall(r'[–0-9,]+',general_info[j+2])\n",
    "            floor_number = int(floors_info[0])\n",
    "            if len(floors_info) > 1:\n",
    "                total_floors = int(re.findall(r'[–0-9,]+',general_info[j+2])[1])\n",
    "                \n",
    "        if general_info[j] == 'Балкон:':\n",
    "                #there could be info as quantitative (number of balcons) either string (\"есть\", \"нет\")\n",
    "                balcony_str_ok = parse_str_info(general_info[j+1],'есть')\n",
    "                balcony_str_notok = parse_str_info(general_info[j+1],'нет')\n",
    "                if (balcony_str_ok or balcony_str_notok):\n",
    "                        balcony = 1 if balcony_str_ok else 0\n",
    "                else:\n",
    "                    balcony_num = parse_quantitative_info(general_info[j+1])\n",
    "                    balcony = balcony_num\n",
    "                                        \n",
    "        if general_info[j] == 'Тип дома:':\n",
    "            new_house = parse_str_info(general_info[j+2],'новостройка')\n",
    "            brick_house = parse_str_info(general_info[j+3],'кирпичный|монолитный|кирпично-монолитный|жб|железобетонный')\n",
    "            \n",
    "        if general_info[j] == 'Телефон:':\n",
    "            telephone = parse_str_info(general_info[j+1], 'да') \n",
    "            \n",
    "            \n",
    "    flats_info[i]['Totsp'] = total_space        \n",
    "    flats_info[i]['Livesp'] = live_space\n",
    "    flats_info[i]['Kitsp'] = kitchen_space\n",
    "    flats_info[i]['Floor'] = floor_number\n",
    "    flats_info[i]['Nfloor'] = total_floors\n",
    "    flats_info[i]['Bal'] = balcony\n",
    "    flats_info[i]['New'] = new_house\n",
    "    flats_info[i]['Brick'] = brick_house\n",
    "    flats_info[i]['Tel'] = telephone\n",
    "    if i % 100 == 0:\n",
    "        print(i, 'flats loaded')"
   ]
  },
  {
   "cell_type": "code",
   "execution_count": 38,
   "metadata": {
    "collapsed": false
   },
   "outputs": [
    {
     "name": "stdout",
     "output_type": "stream",
     "text": [
      "[{'Brick': 0, 'New': 0, 'Nfloor': 10, 'Flat URL': '150919303', 'Dist': 1.7817103781050454, 'Floor': 7, 'Kitsp': 15.0, 'Totsp': 99.0, 'Metrdist': 10, 'Livesp': 80.0, 'N': 0, 'Rooms': 2, 'Bal': 1.0, 'Walk': 1, 'Price': 68000000.0, 'Tel': 0}, {'Brick': 1, 'New': 1, 'Nfloor': 8, 'Flat URL': '150425454', 'Dist': 1.7433886580310984, 'Floor': 6, 'Kitsp': 20.0, 'Totsp': 78.5, 'Metrdist': 12, 'Livesp': 50.0, 'N': 1, 'Rooms': 2, 'Bal': 1.0, 'Walk': 1, 'Price': 27786800.0, 'Tel': None}, {'Brick': 1, 'New': 1, 'Nfloor': 9, 'Flat URL': '149914299', 'Dist': 2.978800870726823, 'Floor': 6, 'Kitsp': 14.0, 'Totsp': 148.0, 'Metrdist': 7, 'Livesp': 57.0, 'N': 2, 'Rooms': 3, 'Bal': 2.0, 'Walk': 1, 'Price': 48000000.0, 'Tel': None}]\n"
     ]
    }
   ],
   "source": [
    "print(flats_info[0:3])"
   ]
  },
  {
   "cell_type": "code",
   "execution_count": 39,
   "metadata": {
    "collapsed": true
   },
   "outputs": [],
   "source": [
    "Moscow_flats = pd.DataFrame(flats_info)\n",
    "Moscow_flats.to_csv('Moscow_flats.csv')"
   ]
  },
  {
   "cell_type": "code",
   "execution_count": null,
   "metadata": {
    "collapsed": true
   },
   "outputs": [],
   "source": []
  }
 ],
 "metadata": {
  "anaconda-cloud": {},
  "kernelspec": {
   "display_name": "Python [conda root]",
   "language": "python",
   "name": "conda-root-py"
  },
  "language_info": {
   "codemirror_mode": {
    "name": "ipython",
    "version": 3
   },
   "file_extension": ".py",
   "mimetype": "text/x-python",
   "name": "python",
   "nbconvert_exporter": "python",
   "pygments_lexer": "ipython3",
   "version": "3.5.2"
  }
 },
 "nbformat": 4,
 "nbformat_minor": 1
}
