{
 "cells": [
  {
   "cell_type": "markdown",
   "metadata": {},
   "source": [
    "# CIAN parser by Elsakova Anna"
   ]
  },
  {
   "cell_type": "markdown",
   "metadata": {},
   "source": [
    "Loading libraries"
   ]
  },
  {
   "cell_type": "code",
   "execution_count": 25,
   "metadata": {
    "collapsed": false,
    "scrolled": true
   },
   "outputs": [],
   "source": [
    "import requests\n",
    "import re\n",
    "from bs4 import BeautifulSoup\n",
    "import pandas as pd\n",
    "import math\n",
    "import time"
   ]
  },
  {
   "cell_type": "code",
   "execution_count": 8,
   "metadata": {
    "collapsed": true
   },
   "outputs": [],
   "source": [
    "def html_stripper(text):\n",
    "    return re.sub('<[^<]+?>', '', str(text))"
   ]
  },
  {
   "cell_type": "code",
   "execution_count": 9,
   "metadata": {
    "collapsed": true
   },
   "outputs": [],
   "source": [
    "page = 1"
   ]
  },
  {
   "cell_type": "markdown",
   "metadata": {},
   "source": [
    "## Find links to site"
   ]
  },
  {
   "cell_type": "code",
   "execution_count": 10,
   "metadata": {
    "collapsed": true
   },
   "outputs": [],
   "source": [
    "all_flats = 'http://www.cian.ru/cat.php?deal_type=sale&engine_version=2&offer_type=flat&p={}&region=1&room1=1&room2=1&room3=1&room4=1&room5=1&room6=1&room7=1&room9=1'"
   ]
  },
  {
   "cell_type": "markdown",
   "metadata": {},
   "source": [
    "## Loading flat links "
   ]
  },
  {
   "cell_type": "code",
   "execution_count": 11,
   "metadata": {
    "collapsed": false
   },
   "outputs": [],
   "source": [
    "#WARNING! More pages\n",
    "links = []\n",
    "for page in range(1,30):\n",
    "    page_url =  all_flats.format(page)\n",
    "\n",
    "    search_page = requests.get(page_url)\n",
    "    search_page = search_page.content\n",
    "    search_page = BeautifulSoup(search_page, 'lxml')\n",
    "\n",
    "    flat_urls = search_page.findAll('div', attrs = {'ng-class':\"{'serp-item_removed': offer.remove.state, 'serp-item_popup-opened': isPopupOpen}\"})\n",
    "    flat_urls = re.split('http://www.cian.ru/sale/flat/|/\" ng-class=\"', str(flat_urls))\n",
    "\n",
    "    for link in flat_urls:\n",
    "        if link.isdigit():\n",
    "            links.append(link)"
   ]
  },
  {
   "cell_type": "code",
   "execution_count": 12,
   "metadata": {
    "collapsed": false
   },
   "outputs": [
    {
     "data": {
      "text/plain": [
       "812"
      ]
     },
     "execution_count": 12,
     "metadata": {},
     "output_type": "execute_result"
    }
   ],
   "source": [
    "len(links)"
   ]
  },
  {
   "cell_type": "markdown",
   "metadata": {},
   "source": [
    "## Parsing begins!"
   ]
  },
  {
   "cell_type": "markdown",
   "metadata": {},
   "source": [
    "### Flat URL number and ordinal number"
   ]
  },
  {
   "cell_type": "code",
   "execution_count": 13,
   "metadata": {
    "collapsed": false
   },
   "outputs": [
    {
     "data": {
      "text/plain": [
       "[{'Flat URL': '150197606', 'N': 0},\n",
       " {'Flat URL': '150514886', 'N': 1},\n",
       " {'Flat URL': '150072433', 'N': 2}]"
      ]
     },
     "execution_count": 13,
     "metadata": {},
     "output_type": "execute_result"
    }
   ],
   "source": [
    "#for each flat remember it's url number and ordinal number\n",
    "flats_info = [{'Flat URL': links[i],'N': i} for i in range(len(links))]\n",
    "flats_info[0:3]"
   ]
  },
  {
   "cell_type": "markdown",
   "metadata": {},
   "source": [
    "There are some functions that we would need for parsing information"
   ]
  },
  {
   "cell_type": "code",
   "execution_count": 34,
   "metadata": {
    "collapsed": false
   },
   "outputs": [],
   "source": [
    "#this function distinguish a number (or no information) in a string\n",
    "def parse_quantitative_info( string ):\n",
    "    #print(string)\n",
    "    num = re.search(r'([–0-9,]+)', string)\n",
    "    if num: #if there were appropriate information - not strings\n",
    "        num = num.groups()[0].replace(',','.') #find the number in the string\n",
    "        if num == '–': #if it is missing info\n",
    "            return None #writing NaN\n",
    "        else:\n",
    "            return float(num); #write the float number\n",
    "    else: num is None\n",
    "    \n",
    "#this function distinguish is there is a substring that we need in string\n",
    "def parse_str_info( string, substring ):\n",
    "    return 1 if re.findall(substring, string) else 0\n",
    "    \n",
    "#this function is used for loading data about one flat - flat which url is \n",
    "#http://www.cian.ru/sale/flat/%pagenumber%/ \n",
    "def go_to_page( page_number ):\n",
    "    flat_url = 'http://www.cian.ru/sale/flat/' + str(links[i]) + '/'\n",
    "    flat_page = requests.get(flat_url)\n",
    "    flat_page = flat_page.content\n",
    "    flat_page = BeautifulSoup(flat_page, 'lxml')  \n",
    "    return flat_page;\n",
    "\n",
    "#this function load table with general information from every flat page\n",
    "def load_table():\n",
    "    table = flat_page.find('table', attrs = {'class':'object_descr_props'})\n",
    "    table = html_stripper(table)\n",
    "    general_info = table.split('\\n')\n",
    "    return general_info;\n",
    "\n",
    "def count_distance_to_center(lattitude, longitude):\n",
    "    kremlin_lattitude = 55.752121\n",
    "    kremlin_longitude = 37.617664\n",
    "    kilometers_in_one_degree = 63.995\n",
    "    dist = math.sqrt(math.pow((kremlin_lattitude - lattitude),2) + math.pow((kremlin_longitude - longitude),2))\n",
    "    dist = dist * kilometers_in_one_degree\n",
    "    return dist"
   ]
  },
  {
   "cell_type": "markdown",
   "metadata": {},
   "source": [
    "And now begins parsing the whole CIAN Moscow"
   ]
  },
  {
   "cell_type": "code",
   "execution_count": 42,
   "metadata": {
    "collapsed": false,
    "scrolled": true
   },
   "outputs": [],
   "source": [
    "#We need to look on EVERY page\n",
    "for i in range(0,len(links)):\n",
    "    #Go to page i\n",
    "    flat_page = go_to_page(str(links[i]))                         \n",
    "                      \n",
    "    #Now we need to find info about number of rooms in every flat (IF 9 THEN STUDIYA)\n",
    "    for script in flat_page.findAll('script'):\n",
    "        #If we found a script, inside which we have an info about rooms_count then we found what we need\n",
    "        res = re.search(r'rooms_count: (.*),', str(script.string))\n",
    "        if res:\n",
    "            rooms = int(res.groups()[0])\n",
    "            total_space = float(re.search(r'total_area: (.*),', str(script.string)).groups()[0].replace(',','.'))\n",
    "    flats_info[i]['Rooms'] = rooms\n",
    "    \n",
    "    #Coordinates\n",
    "    \n",
    "    #Price\n",
    "    price = flat_page.find('meta', attrs = {\"itemprop\":\"price\"})\n",
    "    flats_info[i]['Price'] = parse_quantitative_info(str(price))\n",
    "    \n",
    "    #All information about metro\n",
    "    metro = flat_page.find('span', attrs = {'class':'object_item_metro_comment'})\n",
    "    if metro is None:\n",
    "        metro_dist = None\n",
    "        metro_way = None\n",
    "    else: \n",
    "        metro_dist = int(re.findall(r'([0-9]+)', str(metro))[0])\n",
    "        metro_way = 1 if re.findall(r'пешком', str(metro)) else 0\n",
    "    flats_info[i]['Metrdist'] = metro_dist\n",
    "    flats_info[i]['Walk'] = metro_way\n",
    "    \n",
    "    #Coordinates\n",
    "    coords = flat_page.find('div', attrs={'class':'map_info_button_extend'}).contents[1]\n",
    "    coords = re.split('&amp|center=|%2C', str(coords))\n",
    "    coords_list = []\n",
    "    for item in coords:\n",
    "        if item[0].isdigit():\n",
    "            coords_list.append(item)\n",
    "    lattitude = float(coords_list[0])\n",
    "    longitude = float(coords_list[1])\n",
    "    distance_to_center = count_distance_to_center(lattitude, longitude)\n",
    "    flats_info[i]['Dist'] = distance_to_center;\n",
    "    \n",
    "    #table with general information about flat\n",
    "    general_info = load_table()\n",
    "    #loading information we needed from general information\n",
    "    #print(general_info)\n",
    "    total_space = None\n",
    "    live_space = None\n",
    "    kitchen_space = None\n",
    "    floor_number = None\n",
    "    total_floors = None\n",
    "    balcony = None\n",
    "    new_house = None\n",
    "    brick_house = None\n",
    "    telephone = None\n",
    "    for j in range(0,len(general_info)):\n",
    "        if general_info[j] == 'Общая площадь:':\n",
    "            total_space = parse_quantitative_info(general_info[j+2])\n",
    "        if general_info[j] == 'Жилая площадь:':\n",
    "            live_space = parse_quantitative_info(general_info[j+2])\n",
    "        if general_info[j] == 'Площадь кухни:':\n",
    "            kitchen_space = parse_quantitative_info(general_info[j+2])\n",
    "        if general_info[j] == 'Этаж:':\n",
    "            floors_info = re.findall(r'[–0-9,]+',general_info[j+2])\n",
    "            floor_number = int(floors_info[0])\n",
    "            if len(floors_info) > 1:\n",
    "                total_floors = int(re.findall(r'[–0-9,]+',general_info[j+2])[1])\n",
    "        if general_info[j] == 'Балкон:':\n",
    "                balcony = parse_quantitative_info(general_info[j+1])\n",
    "        if general_info[j] == 'Тип дома:':\n",
    "            new_house = parse_str_info(general_info[j+2],'новостройка')\n",
    "            brick_house = parse_str_info(general_info[j+3],'кирпичный|монолитный|кирпично-монолитный|жб|железобетонный')\n",
    "        if general_info[j] == 'Телефон:':\n",
    "            telephone = parse_str_info(general_info[j+1], 'да') \n",
    "            \n",
    "    flats_info[i]['Totsp'] = total_space        \n",
    "    flats_info[i]['Livesp'] = live_space\n",
    "    flats_info[i]['Kitsp'] = kitchen_space\n",
    "    flats_info[i]['Floor'] = floor_number\n",
    "    flats_info[i]['Nfloor'] = total_floors\n",
    "    flats_info[i]['Bal'] = balcony\n",
    "    flats_info[i]['New'] = new_house\n",
    "    flats_info[i]['Brick'] = brick_house\n",
    "    flats_info[i]['Tel'] = telephone\n",
    "    #print(general_info)\n",
    "    #print(flats_info[i])\n",
    "    \n",
    "#print(flats_info[0:3])"
   ]
  },
  {
   "cell_type": "code",
   "execution_count": 43,
   "metadata": {
    "collapsed": false
   },
   "outputs": [],
   "source": [
    "Moscow_flats = pd.DataFrame(flats_info)\n",
    "Moscow_flats.to_csv('Moscow_flats.csv')"
   ]
  },
  {
   "cell_type": "code",
   "execution_count": null,
   "metadata": {
    "collapsed": true
   },
   "outputs": [],
   "source": []
  }
 ],
 "metadata": {
  "anaconda-cloud": {},
  "kernelspec": {
   "display_name": "Python [conda root]",
   "language": "python",
   "name": "conda-root-py"
  },
  "language_info": {
   "codemirror_mode": {
    "name": "ipython",
    "version": 3
   },
   "file_extension": ".py",
   "mimetype": "text/x-python",
   "name": "python",
   "nbconvert_exporter": "python",
   "pygments_lexer": "ipython3",
   "version": "3.5.2"
  }
 },
 "nbformat": 4,
 "nbformat_minor": 1
}
